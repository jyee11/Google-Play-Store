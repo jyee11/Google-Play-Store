{
 "cells": [
  {
   "cell_type": "markdown",
   "metadata": {},
   "source": [
    "#XGBoost Implementation"
   ]
  },
  {
   "cell_type": "code",
   "execution_count": 76,
   "metadata": {},
   "outputs": [],
   "source": [
    "import numpy as np\n",
    "import pandas as pd\n",
    "import matplotlib.pyplot as plt"
   ]
  },
  {
   "cell_type": "code",
   "execution_count": 3,
   "metadata": {},
   "outputs": [],
   "source": [
    "import xgboost as xgb\n",
    "from xgboost.sklearn import XGBClassifier\n",
    "from sklearn.model_selection import GridSearchCV\n",
    "from sklearn import metrics\n",
    "import math"
   ]
  },
  {
   "cell_type": "code",
   "execution_count": 103,
   "metadata": {},
   "outputs": [],
   "source": [
    "google = pd.read_csv('../src/Data/google_clean.csv')"
   ]
  },
  {
   "cell_type": "markdown",
   "metadata": {},
   "source": [
    "###Splitting into Train and Test Data"
   ]
  },
  {
   "cell_type": "code",
   "execution_count": 141,
   "metadata": {},
   "outputs": [],
   "source": [
    "x = google.drop(['App', 'Last Updated', 'Rating'], axis = 1)\n",
    "y = google['Rating']"
   ]
  },
  {
   "cell_type": "code",
   "execution_count": 142,
   "metadata": {},
   "outputs": [],
   "source": [
    "from sklearn.model_selection import train_test_split"
   ]
  },
  {
   "cell_type": "code",
   "execution_count": 143,
   "metadata": {},
   "outputs": [],
   "source": [
    "x_train, x_test, y_train, y_test = train_test_split(x, y, test_size = 0.25, random_state = 123)"
   ]
  },
  {
   "cell_type": "code",
   "execution_count": 144,
   "metadata": {},
   "outputs": [],
   "source": [
    "x_train_vals = x_train.values\n",
    "y_train_vals = y_train.values\n",
    "\n",
    "x_test_vals = x_test.values\n",
    "y_test_vals = y_test.values"
   ]
  },
  {
   "cell_type": "raw",
   "metadata": {},
   "source": [
    "##XGBoost"
   ]
  },
  {
   "cell_type": "markdown",
   "metadata": {},
   "source": [
    "Due to the large amount of time it would require to run a true grid search cross validation on the XGBoost model all at once, I will be tuning the XGBoost model a few parameters at a time. Below is the function that I will use to tune the XGBoost model using the GridSearchCV function from the scikit-learn library"
   ]
  },
  {
   "cell_type": "code",
   "execution_count": 118,
   "metadata": {},
   "outputs": [],
   "source": [
    "def xgb_tune(param, train_data, predictors, n = 5):\n",
    "    \n",
    "    xgb_search = GridSearchCV(xgb.XGBRegressor(random_state = 123), param, cv = n, return_train_score = True)\n",
    "    xgb_search.fit(train_data, predictors)\n",
    "    \n",
    "    #return xgb_search.cv_results_\n",
    "    return xgb_search.best_params_"
   ]
  },
  {
   "cell_type": "markdown",
   "metadata": {},
   "source": [
    "###Tuning learning rate and n_estimators (number of trees)"
   ]
  },
  {
   "cell_type": "code",
   "execution_count": 151,
   "metadata": {},
   "outputs": [],
   "source": [
    "param = {'n_estimators' : [50, 75, 100, 125, 150, 175, 200],\n",
    "        'learning_rate' : [0.05, 0.1, 0.2, 0.3]}"
   ]
  },
  {
   "cell_type": "code",
   "execution_count": 152,
   "metadata": {},
   "outputs": [
    {
     "data": {
      "text/plain": [
       "{'learning_rate': 0.2, 'n_estimators': 125}"
      ]
     },
     "execution_count": 152,
     "metadata": {},
     "output_type": "execute_result"
    }
   ],
   "source": [
    "xgb_tune(param, x_train_vals, y_train_vals)"
   ]
  },
  {
   "cell_type": "markdown",
   "metadata": {},
   "source": [
    "###Tuning max_depth and min_child_weight"
   ]
  },
  {
   "cell_type": "code",
   "execution_count": 153,
   "metadata": {},
   "outputs": [],
   "source": [
    "param = {'n_estimators' : [125],\n",
    "        'learning_rate' : [0.2],\n",
    "        'max_depth' : [2, 4, 6, 8, 10],\n",
    "        'min_child_weight' : [1, 2, 3, 4, 5]}"
   ]
  },
  {
   "cell_type": "code",
   "execution_count": 154,
   "metadata": {},
   "outputs": [
    {
     "data": {
      "text/plain": [
       "{'learning_rate': 0.2,\n",
       " 'max_depth': 2,\n",
       " 'min_child_weight': 1,\n",
       " 'n_estimators': 125}"
      ]
     },
     "execution_count": 154,
     "metadata": {},
     "output_type": "execute_result"
    }
   ],
   "source": [
    "xgb_tune(param, x_train_vals, y_train_vals)"
   ]
  },
  {
   "cell_type": "markdown",
   "metadata": {},
   "source": [
    "###Tuning gamma"
   ]
  },
  {
   "cell_type": "code",
   "execution_count": 155,
   "metadata": {},
   "outputs": [],
   "source": [
    "param = {'n_estimators' : [125],\n",
    "        'learning_rate' : [0.2],\n",
    "        'max_depth' : [2],\n",
    "        'min_child_weight' : [1], \n",
    "        'gamma' : [i/10 for i in range(0,6)]}"
   ]
  },
  {
   "cell_type": "code",
   "execution_count": 156,
   "metadata": {},
   "outputs": [
    {
     "data": {
      "text/plain": [
       "{'gamma': 0.0,\n",
       " 'learning_rate': 0.2,\n",
       " 'max_depth': 2,\n",
       " 'min_child_weight': 1,\n",
       " 'n_estimators': 125}"
      ]
     },
     "execution_count": 156,
     "metadata": {},
     "output_type": "execute_result"
    }
   ],
   "source": [
    "xgb_tune(param, x_train_vals, y_train_vals)"
   ]
  },
  {
   "cell_type": "markdown",
   "metadata": {},
   "source": [
    "###Tuning subsample and colsample_bytree"
   ]
  },
  {
   "cell_type": "code",
   "execution_count": 157,
   "metadata": {},
   "outputs": [],
   "source": [
    "param = {'n_estimators' : [125],\n",
    "        'learning_rate' : [0.2],\n",
    "        'max_depth' : [2],\n",
    "        'min_child_weight' : [1], \n",
    "        'gamma' : [0],\n",
    "        'subsample' : [i/10 for i in range(3,10)],\n",
    "        'colsample_bytree' : [i/10 for i in range(3,10)]}"
   ]
  },
  {
   "cell_type": "code",
   "execution_count": 158,
   "metadata": {},
   "outputs": [
    {
     "data": {
      "text/plain": [
       "{'colsample_bytree': 0.9,\n",
       " 'gamma': 0,\n",
       " 'learning_rate': 0.2,\n",
       " 'max_depth': 2,\n",
       " 'min_child_weight': 1,\n",
       " 'n_estimators': 125,\n",
       " 'subsample': 0.9}"
      ]
     },
     "execution_count": 158,
     "metadata": {},
     "output_type": "execute_result"
    }
   ],
   "source": [
    "xgb_tune(param, x_train_vals, y_train_vals)"
   ]
  },
  {
   "cell_type": "markdown",
   "metadata": {},
   "source": [
    "###Tuning Regularization parameters (reg_alpha and reg_lambda)"
   ]
  },
  {
   "cell_type": "code",
   "execution_count": 159,
   "metadata": {},
   "outputs": [],
   "source": [
    "param = {'n_estimators' : [125],\n",
    "        'learning_rate' : [0.2],\n",
    "        'max_depth' : [2],\n",
    "        'min_child_weight' : [1], \n",
    "        'gamma' : [0],\n",
    "        'subsample' : [0.9],\n",
    "        'colsample_bytree' : [0.9],\n",
    "        'reg_alpha' : [0.01, 0.1, 1, 10],\n",
    "        'reg_lambda' : [0.01, 0.1, 1, 10]\n",
    "        }"
   ]
  },
  {
   "cell_type": "code",
   "execution_count": 160,
   "metadata": {
    "scrolled": true
   },
   "outputs": [
    {
     "data": {
      "text/plain": [
       "{'colsample_bytree': 0.9,\n",
       " 'gamma': 0,\n",
       " 'learning_rate': 0.2,\n",
       " 'max_depth': 2,\n",
       " 'min_child_weight': 1,\n",
       " 'n_estimators': 125,\n",
       " 'reg_alpha': 1,\n",
       " 'reg_lambda': 0.01,\n",
       " 'subsample': 0.9}"
      ]
     },
     "execution_count": 160,
     "metadata": {},
     "output_type": "execute_result"
    }
   ],
   "source": [
    "xgb_tune(param, x_train_vals, y_train_vals)"
   ]
  },
  {
   "cell_type": "markdown",
   "metadata": {},
   "source": [
    "####Tuning alpha and lambda again to figures much closer to what we came up with"
   ]
  },
  {
   "cell_type": "code",
   "execution_count": 163,
   "metadata": {},
   "outputs": [],
   "source": [
    "param = {'n_estimators' : [125],\n",
    "        'learning_rate' : [0.2],\n",
    "        'max_depth' : [2],\n",
    "        'min_child_weight' : [1], \n",
    "        'gamma' : [0],\n",
    "        'subsample' : [0.8],\n",
    "        'colsample_bytree' : [0.9],\n",
    "        'reg_alpha' : [0.5, 0.6, 0.7, 0.8, 0.9, 1, 1.1, 1.2, 1.3],\n",
    "        'reg_lambda' : [0, 0.01, 0.05, 0.075, 0.1]\n",
    "        }"
   ]
  },
  {
   "cell_type": "code",
   "execution_count": 164,
   "metadata": {
    "scrolled": true
   },
   "outputs": [
    {
     "data": {
      "text/plain": [
       "{'colsample_bytree': 0.9,\n",
       " 'gamma': 0,\n",
       " 'learning_rate': 0.2,\n",
       " 'max_depth': 2,\n",
       " 'min_child_weight': 1,\n",
       " 'n_estimators': 125,\n",
       " 'reg_alpha': 0.7,\n",
       " 'reg_lambda': 0.05,\n",
       " 'subsample': 0.8}"
      ]
     },
     "execution_count": 164,
     "metadata": {},
     "output_type": "execute_result"
    }
   ],
   "source": [
    "xgb_tune(param, x_train_vals, y_train_vals)"
   ]
  },
  {
   "cell_type": "code",
   "execution_count": 165,
   "metadata": {},
   "outputs": [
    {
     "name": "stdout",
     "output_type": "stream",
     "text": [
      "\n",
      "Baseline Testing RMSE: 0.48353604080758344\n",
      "\n",
      "Model Testing RMSE: 0.4505027374568078\n"
     ]
    }
   ],
   "source": [
    "xgb_model = xgb.XGBRegressor(learning_rate = 0.2,\n",
    "                            max_depth = 2,\n",
    "                            min_child_weight = 1,\n",
    "                            n_estimators = 125,\n",
    "                            gamma = 0,\n",
    "                            reg_alpha = 0.7,\n",
    "                            reg_lambda = 0.05,\n",
    "                            subsample = 0.8, \n",
    "                            colsample_bytree = 0.9)\n",
    "\n",
    "xgb_model.fit(x_train, y_train, eval_metric = 'rmse')\n",
    "train_predict = xgb_model.predict(x_test)\n",
    "\n",
    "\n",
    "\n",
    "print(('\\nBaseline Testing RMSE: {}').format(np.array(y_test_vals).std()))\n",
    "print(('\\nModel Testing RMSE: {}').format(math.sqrt(metrics.mean_squared_error(y_test_vals, train_predict))))"
   ]
  },
  {
   "cell_type": "code",
   "execution_count": 166,
   "metadata": {},
   "outputs": [
    {
     "data": {
      "image/png": "[encoded data removed]",
      "text/plain": [
       "<Figure size 432x288 with 1 Axes>"
      ]
     },
     "metadata": {
      "needs_background": "light"
     },
     "output_type": "display_data"
    }
   ],
   "source": [
    "xgb.plot_importance(xgb_model)\n",
    "plt.show()"
   ]
  },
  {
   "cell_type": "code",
   "execution_count": null,
   "metadata": {},
   "outputs": [],
   "source": [
    "final_params = {'colsample_bytree': 0.9,\n",
    "                'gamma': 0,\n",
    "                'eta': 0.1,\n",
    "                'max_depth': 8,\n",
    "                'min_child_weight': 2,\n",
    "                'alpha': 0.03,\n",
    "                'lambda': 0.8,\n",
    "                'subsample': 0.6}\n",
    "\n",
    "cv_model = xgb.cv(final_params, , num_boost_rounds = 100, nfold = 3)"
   ]
  }
 ],
 "metadata": {
  "kernelspec": {
   "display_name": "Python 3",
   "language": "python",
   "name": "python3"
  },
  "language_info": {
   "codemirror_mode": {
    "name": "ipython",
    "version": 3
   },
   "file_extension": ".py",
   "mimetype": "text/x-python",
   "name": "python",
   "nbconvert_exporter": "python",
   "pygments_lexer": "ipython3",
   "version": "3.6.7rc1"
  }
 },
 "nbformat": 4,
 "nbformat_minor": 2
}
