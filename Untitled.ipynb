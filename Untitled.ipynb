{
 "cells": [
  {
   "cell_type": "code",
   "execution_count": null,
   "metadata": {},
   "outputs": [],
   "source": [
    "def xgb_tuning(xgb_model, train_data, predictors, target, cv = True, folds = 5, rounds = 100):\n",
    "    if cv:\n",
    "        xgb_param = xgb_model.get_xgb_params()\n",
    "        xgb_train = xgb.DMatrix(train_data[predictors].values, label = train_data[target])\n",
    "        result = xgb.cv(xgb_param, xgb_train,\n",
    "                       num_boost_round = xgb_model.get_params()['n_estimators'],\n",
    "                       nfold = folds,\n",
    "                       metrics = 'rmse',\n",
    "                       early_stopping_rounds = rounds)\n",
    "                       #verbose_eval = True)\n",
    "        \n",
    "        xgb_model.set_params(n_estimators = result.shape[0])\n",
    "    \n",
    "    xgb_model.fit(train_data[predictors], train_data[target], eval_metric = 'rmse')\n",
    "    \n",
    "    train_predict = xgb_model.predict(train_data[predictors])\n",
    "    \n",
    "    print(('\\nModel Results: {}').format(math.sqrt(metrics.mean_squared_error(train_data[target], train_predict))))"
   ]
  },
  {
   "cell_type": "code",
   "execution_count": null,
   "metadata": {},
   "outputs": [],
   "source": [
    "model_1 = xgb.XGBRegressor(random_state = 123)"
   ]
  },
  {
   "cell_type": "code",
   "execution_count": null,
   "metadata": {},
   "outputs": [],
   "source": [
    "xgb_tuning(model_1, train, predictors, target)"
   ]
  }
 ],
 "metadata": {
  "kernelspec": {
   "display_name": "Python 3",
   "language": "python",
   "name": "python3"
  },
  "language_info": {
   "codemirror_mode": {
    "name": "ipython",
    "version": 3
   },
   "file_extension": ".py",
   "mimetype": "text/x-python",
   "name": "python",
   "nbconvert_exporter": "python",
   "pygments_lexer": "ipython3",
   "version": "3.6.7rc1"
  }
 },
 "nbformat": 4,
 "nbformat_minor": 2
}
