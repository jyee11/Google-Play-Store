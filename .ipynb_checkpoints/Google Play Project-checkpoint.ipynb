{
 "cells": [
  {
   "cell_type": "code",
   "execution_count": 1,
   "metadata": {},
   "outputs": [],
   "source": [
    "import pandas as pd\n",
    "import numpy as np\n",
    "import scipy as sp\n",
    "import matplotlib.pyplot as plt\n",
    "import seaborn as sns"
   ]
  },
  {
   "cell_type": "code",
   "execution_count": 2,
   "metadata": {},
   "outputs": [],
   "source": [
    "google = pd.read_csv('../src/Data/googleplaystore.csv')"
   ]
  },
  {
   "cell_type": "code",
   "execution_count": 3,
   "metadata": {
    "scrolled": true
   },
   "outputs": [
    {
     "name": "stdout",
     "output_type": "stream",
     "text": [
      "<class 'pandas.core.frame.DataFrame'>\n",
      "RangeIndex: 10841 entries, 0 to 10840\n",
      "Data columns (total 13 columns):\n",
      "App               10841 non-null object\n",
      "Category          10840 non-null object\n",
      "Rating            9367 non-null float64\n",
      "Reviews           10841 non-null int64\n",
      "Size              10841 non-null object\n",
      "Installs          10841 non-null object\n",
      "Type              10840 non-null object\n",
      "Price             10841 non-null object\n",
      "Content Rating    10841 non-null object\n",
      "Genres            10840 non-null object\n",
      "Last Updated      10841 non-null object\n",
      "Current Ver       10833 non-null object\n",
      "Android Ver       10839 non-null object\n",
      "dtypes: float64(1), int64(1), object(11)\n",
      "memory usage: 1.1+ MB\n"
     ]
    }
   ],
   "source": [
    "google.info()"
   ]
  },
  {
   "cell_type": "markdown",
   "metadata": {},
   "source": [
    "- Category\n",
    "    - ART_AND_DESIGN\n",
    "    - AUTO_AND_VEHICLES\n",
    "    - BEAUTY\n",
    "    - BOOKS_AND_REFERENCE\n",
    "    - BUSINESS\n",
    "    - COMICS\n",
    "    - COMMUNICATION\n",
    "    - DATING\n",
    "    - EDUCATION\n",
    "    - ENTERTAINMENT\n",
    "    - EVENTS\n",
    "    - FAMILY\n",
    "    - FINANCE\n",
    "    - FOOD_AND_DRINK\n",
    "    - GAME\n",
    "    - HEALTH_AND_FITNESS\n",
    "    - HOUSE_AND_HOME\n",
    "    - LIBRARIES_AND_DEMO\n",
    "    - LIFESTYLE\n",
    "    - MAPS_AND_NAVIGATION\n",
    "    - MEDICAL\n",
    "    - NEWS_AND_MAGAZINES\n",
    "    - PARENTING\n",
    "    - PERSONALIZATION\n",
    "    - PHOTOGRAPHY\n",
    "    - PRODUCTIVITY\n",
    "    - SHOPPING\n",
    "    - SOCIAL\n",
    "    - SPORTS\n",
    "    - TOOLS\n",
    "    - LAYERS\n",
    "    - WEATHER\n",
    "- Rating\n",
    "- Reviews\n",
    "- Size (in kilobytes)\n",
    "- Installs"
   ]
  },
  {
   "cell_type": "markdown",
   "metadata": {},
   "source": [
    "##Functions used for Data Cleaning"
   ]
  },
  {
   "cell_type": "markdown",
   "metadata": {},
   "source": [
    "###Cleaning Category Variable"
   ]
  },
  {
   "cell_type": "code",
   "execution_count": 4,
   "metadata": {},
   "outputs": [],
   "source": [
    "google.Category = google.Category.astype('category')"
   ]
  },
  {
   "cell_type": "markdown",
   "metadata": {},
   "source": [
    "###Cleaning Size Variable"
   ]
  },
  {
   "cell_type": "code",
   "execution_count": 5,
   "metadata": {},
   "outputs": [],
   "source": [
    "'''\n",
    "Cleans \n",
    "'''\n",
    "def size_fix(data):\n",
    "    if data.Size[-1] == 'M':\n",
    "        return float(data.Size[:-1]) * 1000\n",
    "    elif data.Size[-1] == 'k':\n",
    "        return float(data.Size[:-1])"
   ]
  },
  {
   "cell_type": "code",
   "execution_count": 6,
   "metadata": {},
   "outputs": [],
   "source": [
    "google.Size = google.apply(size_fix, axis = 1)\n",
    "google.Size = google.Size.astype('float64')"
   ]
  },
  {
   "cell_type": "markdown",
   "metadata": {},
   "source": [
    "###Cleaning Installs Variable"
   ]
  },
  {
   "cell_type": "code",
   "execution_count": 8,
   "metadata": {
    "scrolled": true
   },
   "outputs": [
    {
     "data": {
      "text/plain": [
       "Index(['0', '0+', '1+', '1,000+', '1,000,000+', '1,000,000,000+', '10+',\n",
       "       '10,000+', '10,000,000+', '100+', '100,000+', '100,000,000+', '5+',\n",
       "       '5,000+', '5,000,000+', '50+', '50,000+', '50,000,000+', '500+',\n",
       "       '500,000+', '500,000,000+'],\n",
       "      dtype='object')"
      ]
     },
     "execution_count": 8,
     "metadata": {},
     "output_type": "execute_result"
    }
   ],
   "source": [
    "google.Installs.astype('category').cat.categories"
   ]
  },
  {
   "cell_type": "code",
   "execution_count": 7,
   "metadata": {},
   "outputs": [],
   "source": [
    "def installs_fix(data):\n",
    "    if data.Installs == '0':\n",
    "        return int(data.Installs)\n",
    "    else:\n",
    "        return int(data.Installs[:-1].replace(',',''))"
   ]
  },
  {
   "cell_type": "code",
   "execution_count": 10,
   "metadata": {},
   "outputs": [],
   "source": [
    "google.Installs = google.apply(installs_fix, axis = 1)"
   ]
  },
  {
   "cell_type": "markdown",
   "metadata": {},
   "source": [
    "###Cleaning Type Variable"
   ]
  },
  {
   "cell_type": "code",
   "execution_count": 9,
   "metadata": {},
   "outputs": [],
   "source": [
    "google.Type = google.Type.astype('category')"
   ]
  },
  {
   "cell_type": "markdown",
   "metadata": {},
   "source": [
    "###Cleaning Price Variable"
   ]
  },
  {
   "cell_type": "code",
   "execution_count": 11,
   "metadata": {},
   "outputs": [],
   "source": [
    "def price_fix(data):\n",
    "    if data.Price == '0':\n",
    "        return float(data.Price)\n",
    "    else:\n",
    "        return float(data.Price[1:])"
   ]
  },
  {
   "cell_type": "code",
   "execution_count": 12,
   "metadata": {},
   "outputs": [],
   "source": [
    "google.Price = google.apply(price_fix, axis = 1)"
   ]
  },
  {
   "cell_type": "markdown",
   "metadata": {},
   "source": [
    "###Cleaning Content Rating Variable"
   ]
  },
  {
   "cell_type": "code",
   "execution_count": 13,
   "metadata": {},
   "outputs": [],
   "source": [
    "google['Content Rating'] = google['Content Rating'].astype('category')"
   ]
  },
  {
   "cell_type": "markdown",
   "metadata": {},
   "source": [
    "###Cleaning Genres Variable"
   ]
  },
  {
   "cell_type": "code",
   "execution_count": 14,
   "metadata": {},
   "outputs": [],
   "source": [
    "google.iloc[10472,9] = 'Art & Design'"
   ]
  },
  {
   "cell_type": "code",
   "execution_count": null,
   "metadata": {},
   "outputs": [],
   "source": [
    "import re\n",
    "google.Genres = google.apply(lambda x : re.split(';', x.Genres)[0], axis = 1)"
   ]
  },
  {
   "cell_type": "code",
   "execution_count": 18,
   "metadata": {},
   "outputs": [],
   "source": [
    "google.Genres = google.Genres.astype('category')"
   ]
  },
  {
   "cell_type": "markdown",
   "metadata": {},
   "source": [
    "###Cleaning Last Updated Variable"
   ]
  },
  {
   "cell_type": "code",
   "execution_count": 16,
   "metadata": {},
   "outputs": [],
   "source": [
    "google['Last Updated'] = pd.to_datetime(google['Last Updated'], format = '%d-%b-%y')"
   ]
  },
  {
   "cell_type": "markdown",
   "metadata": {},
   "source": [
    "###Cleaning Android Version Variable"
   ]
  },
  {
   "cell_type": "code",
   "execution_count": 15,
   "metadata": {},
   "outputs": [],
   "source": [
    "def android_fix(data):\n",
    "    if pd.isnull(data['Android Ver']):\n",
    "        return None\n",
    "    elif data['Android Ver'] == 'Varies with device':\n",
    "        return None\n",
    "    else: \n",
    "        return float(data['Android Ver'][0:3])"
   ]
  },
  {
   "cell_type": "code",
   "execution_count": null,
   "metadata": {},
   "outputs": [],
   "source": [
    "def android_na_fix(data):\n",
    "    if pd.isnull(data['Android Ver']):\n",
    "        return google['Android Ver'].mean()\n",
    "    else:\n",
    "        return data['Android Ver']"
   ]
  },
  {
   "cell_type": "code",
   "execution_count": null,
   "metadata": {},
   "outputs": [],
   "source": [
    "google['Android Ver'] = google.apply(android_fix, axis = 1 )"
   ]
  },
  {
   "cell_type": "code",
   "execution_count": 20,
   "metadata": {},
   "outputs": [
    {
     "ename": "NameError",
     "evalue": "name 'android_na_fix' is not defined",
     "output_type": "error",
     "traceback": [
      "\u001b[1;31m-------------------------------------------------------------------------\u001b[0m",
      "\u001b[1;31mNameError\u001b[0m                               Traceback (most recent call last)",
      "\u001b[1;32m<ipython-input-20-3e9a55973995>\u001b[0m in \u001b[0;36m<module>\u001b[1;34m\u001b[0m\n\u001b[1;32m----> 1\u001b[1;33m \u001b[0mgoogle\u001b[0m\u001b[1;33m[\u001b[0m\u001b[1;34m'Android Ver'\u001b[0m\u001b[1;33m]\u001b[0m \u001b[1;33m=\u001b[0m \u001b[0mgoogle\u001b[0m\u001b[1;33m.\u001b[0m\u001b[0mapply\u001b[0m\u001b[1;33m(\u001b[0m\u001b[0mandroid_na_fix\u001b[0m\u001b[1;33m,\u001b[0m \u001b[0maxis\u001b[0m \u001b[1;33m=\u001b[0m \u001b[1;36m1\u001b[0m\u001b[1;33m)\u001b[0m\u001b[1;33m\u001b[0m\u001b[1;33m\u001b[0m\u001b[0m\n\u001b[0m",
      "\u001b[1;31mNameError\u001b[0m: name 'android_na_fix' is not defined"
     ]
    }
   ],
   "source": [
    "google['Android Ver'] = google.apply(android_na_fix, axis = 1)"
   ]
  },
  {
   "cell_type": "code",
   "execution_count": 19,
   "metadata": {},
   "outputs": [],
   "source": [
    "google.drop('Current Ver', axis = 1,inplace = True)"
   ]
  },
  {
   "cell_type": "code",
   "execution_count": 17,
   "metadata": {
    "scrolled": true
   },
   "outputs": [
    {
     "name": "stdout",
     "output_type": "stream",
     "text": [
      "<class 'pandas.core.frame.DataFrame'>\n",
      "RangeIndex: 10841 entries, 0 to 10840\n",
      "Data columns (total 13 columns):\n",
      "App               10841 non-null object\n",
      "Category          10840 non-null category\n",
      "Rating            9367 non-null float64\n",
      "Reviews           10841 non-null int64\n",
      "Size              9146 non-null float64\n",
      "Installs          10841 non-null int64\n",
      "Type              10840 non-null category\n",
      "Price             10841 non-null float64\n",
      "Content Rating    10841 non-null category\n",
      "Genres            10841 non-null object\n",
      "Last Updated      10841 non-null datetime64[ns]\n",
      "Current Ver       10833 non-null object\n",
      "Android Ver       10839 non-null object\n",
      "dtypes: category(3), datetime64[ns](1), float64(3), int64(2), object(4)\n",
      "memory usage: 880.6+ KB\n"
     ]
    }
   ],
   "source": [
    "google.info()"
   ]
  },
  {
   "cell_type": "code",
   "execution_count": null,
   "metadata": {
    "scrolled": true
   },
   "outputs": [],
   "source": [
    "google.head(15)"
   ]
  },
  {
   "cell_type": "markdown",
   "metadata": {},
   "source": [
    "##Applying Machine Learning Algorithms"
   ]
  },
  {
   "cell_type": "code",
   "execution_count": null,
   "metadata": {},
   "outputs": [],
   "source": [
    "import keras\n",
    "import tensorflow as tf"
   ]
  },
  {
   "cell_type": "code",
   "execution_count": null,
   "metadata": {},
   "outputs": [],
   "source": [
    "import xgboost as xgb"
   ]
  },
  {
   "cell_type": "code",
   "execution_count": null,
   "metadata": {},
   "outputs": [],
   "source": []
  }
 ],
 "metadata": {
  "kernelspec": {
   "display_name": "Python 3",
   "language": "python",
   "name": "python3"
  },
  "language_info": {
   "codemirror_mode": {
    "name": "ipython",
    "version": 3
   },
   "file_extension": ".py",
   "mimetype": "text/x-python",
   "name": "python",
   "nbconvert_exporter": "python",
   "pygments_lexer": "ipython3",
   "version": "3.6.7rc1"
  }
 },
 "nbformat": 4,
 "nbformat_minor": 2
}
