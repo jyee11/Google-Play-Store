{
 "cells": [
  {
   "cell_type": "code",
   "execution_count": null,
   "metadata": {},
   "outputs": [],
   "source": [
    "import pandas as pd\n",
    "import numpy as np\n",
    "import scipy as sp\n",
    "import matplotlib.pyplot as plt\n",
    "import seaborn as sns"
   ]
  },
  {
   "cell_type": "code",
   "execution_count": null,
   "metadata": {},
   "outputs": [],
   "source": [
    "google = pd.read_csv('../src/Data/googleplaystore.csv')"
   ]
  },
  {
   "cell_type": "code",
   "execution_count": null,
   "metadata": {},
   "outputs": [],
   "source": [
    "google.info()"
   ]
  },
  {
   "cell_type": "code",
   "execution_count": null,
   "metadata": {},
   "outputs": [],
   "source": [
    "- Category\n",
    "    - ART_AND_DESIGN\n",
    "    - AUTO_AND_VEHICLES\n",
    "    - BEAUTY\n",
    "    - BOOKS_AND_REFERENCE\n",
    "    - BUSINESS\n",
    "    - COMICS\n",
    "    - COMMUNICATION\n",
    "    - DATING\n",
    "    - EDUCATION\n",
    "    - ENTERTAINMENT\n",
    "    - EVENTS\n",
    "    - FAMILY\n",
    "    - FINANCE\n",
    "    - FOOD_AND_DRINK\n",
    "    - GAME\n",
    "    - HEALTH_AND_FITNESS\n",
    "    - HOUSE_AND_HOME\n",
    "    - LIBRARIES_AND_DEMO\n",
    "    - LIFESTYLE\n",
    "    - MAPS_AND_NAVIGATION\n",
    "    - MEDICAL\n",
    "    - NEWS_AND_MAGAZINES\n",
    "    - PARENTING\n",
    "    - PERSONALIZATION\n",
    "    - PHOTOGRAPHY\n",
    "    - PRODUCTIVITY\n",
    "    - SHOPPING\n",
    "    - SOCIAL\n",
    "    - SPORTS\n",
    "    - TOOLS\n",
    "    - LAYERS\n",
    "    - WEATHER\n",
    "- Rating\n",
    "- Reviews\n",
    "- Size (in kilobytes)\n",
    "- Installs"
   ]
  },
  {
   "cell_type": "code",
   "execution_count": null,
   "metadata": {},
   "outputs": [],
   "source": [
    "##Functions used for Data Cleaning"
   ]
  },
  {
   "cell_type": "code",
   "execution_count": null,
   "metadata": {},
   "outputs": [],
   "source": [
    "###Cleaning Category Variable"
   ]
  },
  {
   "cell_type": "code",
   "execution_count": null,
   "metadata": {},
   "outputs": [],
   "source": [
    "google.Category = google.Category.astype('category')"
   ]
  },
  {
   "cell_type": "code",
   "execution_count": null,
   "metadata": {},
   "outputs": [],
   "source": [
    "###Cleaning Size Variable"
   ]
  },
  {
   "cell_type": "code",
   "execution_count": null,
   "metadata": {},
   "outputs": [],
   "source": [
    "'''\n",
    "Cleans \n",
    "'''\n",
    "def size_fix(data):\n",
    "    if data.Size[-1] == 'M':\n",
    "        return float(data.Size[:-1]) * 1000\n",
    "    elif data.Size[-1] == 'k':\n",
    "        return float(data.Size[:-1])"
   ]
  },
  {
   "cell_type": "code",
   "execution_count": null,
   "metadata": {},
   "outputs": [],
   "source": [
    "google.Size = google.apply(size_fix, axis = 1)\n",
    "google.Size = google.Size.astype('float64')"
   ]
  },
  {
   "cell_type": "code",
   "execution_count": null,
   "metadata": {},
   "outputs": [],
   "source": [
    "###Cleaning Installs Variable"
   ]
  },
  {
   "cell_type": "code",
   "execution_count": null,
   "metadata": {},
   "outputs": [],
   "source": [
    "google.Installs.astype('category').cat.categories"
   ]
  },
  {
   "cell_type": "code",
   "execution_count": null,
   "metadata": {},
   "outputs": [],
   "source": [
    "def installs_fix(data):\n",
    "    if data.Installs == '0':\n",
    "        return int(data.Installs)\n",
    "    else:\n",
    "        return int(data.Installs[:-1].replace(',',''))"
   ]
  },
  {
   "cell_type": "code",
   "execution_count": null,
   "metadata": {},
   "outputs": [],
   "source": [
    "google.Installs = google.apply(installs_fix, axis = 1)"
   ]
  },
  {
   "cell_type": "code",
   "execution_count": null,
   "metadata": {},
   "outputs": [],
   "source": [
    "###Cleaning Type Variable"
   ]
  },
  {
   "cell_type": "code",
   "execution_count": null,
   "metadata": {},
   "outputs": [],
   "source": [
    "google.Type = google.Type.astype('category')"
   ]
  }
 ],
 "metadata": {
  "kernelspec": {
   "display_name": "Python 3",
   "language": "python",
   "name": "python3"
  },
  "language_info": {
   "codemirror_mode": {
    "name": "ipython",
    "version": 3
   },
   "file_extension": ".py",
   "mimetype": "text/x-python",
   "name": "python",
   "nbconvert_exporter": "python",
   "pygments_lexer": "ipython3",
   "version": "3.6.7rc1"
  }
 },
 "nbformat": 4,
 "nbformat_minor": 2
}
